{
 "cells": [
  {
   "cell_type": "markdown",
   "id": "ec61635d",
   "metadata": {},
   "source": [
    "# Subsampling the hessian"
   ]
  },
  {
   "cell_type": "markdown",
   "id": "fee48905",
   "metadata": {},
   "source": [
    "## (1) Funções essenciais"
   ]
  },
  {
   "cell_type": "code",
   "execution_count": 1,
   "id": "b02f94d9",
   "metadata": {},
   "outputs": [],
   "source": [
    "import numpy as np\n",
    "def pontos_aleatorios(W, N, P, erro=0):\n",
    "    X = np.concatenate([np.ones(P).reshape(1,P), np.random.rand(N-1,P)]) # N variaveis se incluir a constante\n",
    "    Y = []\n",
    "    for p in range(P):\n",
    "        if np.dot(W, X[:, p]) < np.mean(np.dot(W, X)) + np.random.uniform(-erro,erro):\n",
    "            Y.append(0)\n",
    "        else:\n",
    "            Y.append(1)\n",
    "    return X, np.array(Y)"
   ]
  },
  {
   "cell_type": "code",
   "execution_count": 2,
   "id": "ecc6d0d6",
   "metadata": {},
   "outputs": [],
   "source": [
    "def sigma(w, v):\n",
    "    return 1 / (1 + np.exp(-np.dot(w, v)))\n",
    "\n",
    "# Funcao Custo da regressao Logistica\n",
    "def g_lr(w, x, y):\n",
    "    cost = 0\n",
    "    N, P = x.shape\n",
    "    for p in range(P):\n",
    "        s = sigma(w, x[:,p])\n",
    "        cost += (s - y[p]) ** 2\n",
    "    return cost/P\n",
    "\n",
    "# Gradiente da funcao custo\n",
    "def grad_lr(w, x, y):\n",
    "    N, P = x.shape\n",
    "    grad = np.zeros(N)\n",
    "    for p in range(P):\n",
    "        s = sigma(w, x[:,p])\n",
    "        k = (s - y[p]) * s**2 * np.exp(-np.dot(x[:,p], w))\n",
    "        grad += k * x[:,p]\n",
    "    grad = 2*grad/P\n",
    "    return grad"
   ]
  },
  {
   "cell_type": "code",
   "execution_count": 3,
   "id": "39e4e8ab",
   "metadata": {},
   "outputs": [],
   "source": [
    "# Hessiana\n",
    "def hessian(w, x, y):\n",
    "    N, P = x.shape\n",
    "    H = np.zeros((N, N))\n",
    "    for p in range(P):\n",
    "        x_p = x[:, p]\n",
    "        s = sigma(w, x_p)\n",
    "        A = s * (1 - s)  # A = derivada da função sigmoide\n",
    "        H += (2 / P) * A * (1 - 2 * (s - y[p])) * np.outer(x_p, x_p)\n",
    "    return H"
   ]
  },
  {
   "cell_type": "markdown",
   "id": "9fdcc6b7",
   "metadata": {},
   "source": [
    "## (2) Métodos de minimização da função custo"
   ]
  },
  {
   "cell_type": "markdown",
   "id": "421f13d5",
   "metadata": {},
   "source": [
    "### (2.1) Newton com hessiana sub-amostrada"
   ]
  },
  {
   "cell_type": "code",
   "execution_count": 4,
   "id": "36594b48",
   "metadata": {},
   "outputs": [],
   "source": [
    "# metodo de newton modificado\n",
    "def subsampled_hessian_newton_method(w_init, x, y, max_iter=100, tol=1e-10):\n",
    "    w = w_init.copy()\n",
    "    cost = g_lr(w, x, y)\n",
    "    cost_history = [cost]\n",
    "    alpha = 1\n",
    "    epsilon = 1e-10\n",
    "    i = 0\n",
    "    while cost > tol and i in range(max_iter):\n",
    "        \n",
    "        # Computando o gradiente e a hessiana de g\n",
    "        gradient = grad_lr(w, x, y)\n",
    "        try:\n",
    "            H_diag_inv = 1/np.diag(hessian(w, x, y))\n",
    "        except np.linalg.LinAlgError:\n",
    "            H_diag_inv = 1/(np.diag(hessian(w, x, y)) + epsilon)\n",
    "\n",
    "        k = np.array([gradient[i] * H_diag_inv[i] for i in range(N)])\n",
    "        \n",
    "        # Passo iterativo de Newton\n",
    "        w_new = w - alpha * k\n",
    "        new_cost = g_lr(w_new, x, y)\n",
    "\n",
    "        if new_cost > cost:\n",
    "            alpha /= 2\n",
    "        else:\n",
    "            w = w_new\n",
    "       \n",
    "        cost_history.append(new_cost)\n",
    "        cost = new_cost\n",
    "        i += 1\n",
    "        \n",
    "    return w, cost_history"
   ]
  },
  {
   "cell_type": "markdown",
   "id": "57f2b7f7",
   "metadata": {},
   "source": [
    "### (2.2) Newton original"
   ]
  },
  {
   "cell_type": "code",
   "execution_count": 5,
   "id": "57461825",
   "metadata": {},
   "outputs": [],
   "source": [
    "# metodo de newton modificado\n",
    "def original_newton_method(w_init, x, y, max_iter=100, tol=1e-10):\n",
    "    w = w_init.copy()\n",
    "    cost = g_lr(w, x, y)\n",
    "    cost_history = [cost]\n",
    "    alpha = 1\n",
    "    epsilon = 1e-10\n",
    "    i = 0\n",
    "    while cost > tol and i in range(max_iter):\n",
    "        \n",
    "        # Computando o gradiente e a hessiana de g\n",
    "        gradient = grad_lr(w, x, y)\n",
    "        H = hessian(w, x, y)\n",
    "        \n",
    "        try:\n",
    "            delta_w = np.linalg.solve(H, -gradient) # mais fácil/estável resolver o sistema do que inverter \n",
    "            w_new = w + alpha * delta_w\n",
    "        except np.linalg.LinAlgError :\n",
    "            H_inv = np.linalg.inv(H + epsilon*np.eye(N))\n",
    "            w_new = w - alpha * H_inv @ gradient\n",
    "        \n",
    "        new_cost = g_lr(w_new, x, y)\n",
    "\n",
    "        if new_cost > cost:\n",
    "            alpha /= 2\n",
    "        else:\n",
    "            w = w_new\n",
    "       \n",
    "        cost_history.append(new_cost)\n",
    "        cost = new_cost\n",
    "        i += 1\n",
    "        \n",
    "    return w, cost_history"
   ]
  },
  {
   "cell_type": "markdown",
   "id": "f0c06456",
   "metadata": {},
   "source": [
    "### (2.3) gradiente descendente normalizado"
   ]
  },
  {
   "cell_type": "code",
   "execution_count": 6,
   "id": "682261ab",
   "metadata": {},
   "outputs": [],
   "source": [
    "#Gradiente Descendente\n",
    "def gradient_descent(w, x, y, max_its=100, tol = 1e-10):\n",
    "    cost = g_lr(w,x,y)\n",
    "    cost_history = [cost]\n",
    "    alpha = 1\n",
    "    i = 0\n",
    "    while cost > tol and i in range(max_its):\n",
    "        w_ant = w.copy()\n",
    "        grad = grad_lr(w,x,y)\n",
    "        w -= alpha * grad\n",
    "        \n",
    "        new_cost = g_lr(w,x,y)\n",
    "        if new_cost > cost:\n",
    "            w = w_ant\n",
    "            alpha /= 2\n",
    "        cost_history.append(new_cost)\n",
    "        cost = g_lr(w,x,y)\n",
    "        i += 1\n",
    "    \n",
    "    return w, cost_history"
   ]
  },
  {
   "cell_type": "markdown",
   "id": "6f938cf2",
   "metadata": {},
   "source": [
    "## (3) Teste dos modelos usando dados aleatórios"
   ]
  },
  {
   "cell_type": "code",
   "execution_count": 7,
   "id": "9081e616",
   "metadata": {},
   "outputs": [
    {
     "name": "stdout",
     "output_type": "stream",
     "text": [
      "modelo 1: [ 15.52707569 -16.58217028 -13.9766238 ]\n",
      "modelo 2: [0.0813846  3.35635148 3.05917456]\n",
      "modelo 3: [ 6.32666314 -6.82107964 -5.63716093]\n",
      "modelo real: [ 0.9013979  -0.79574647 -0.6951172 ]\n"
     ]
    }
   ],
   "source": [
    "# gera os dados aleatorios\n",
    "P = 500\n",
    "N = 3\n",
    "w_true = np.array(np.random.uniform(-1,1,N))\n",
    "x, y = pontos_aleatorios(w_true, N, P, erro = 0.01)\n",
    "\n",
    "max_iter = 1000\n",
    "\n",
    "# Roda o metodo de newton com hessiana sub-amostrada\n",
    "w_init = np.zeros(N)\n",
    "w_newton_subsample, cost_history_newton_subsample = subsampled_hessian_newton_method(w_init, x, y, max_iter)\n",
    "\n",
    "# Roda o metodo de newton com hessiana sub-amostrada\n",
    "w_init = np.ones(N)\n",
    "w_newton_original, cost_history_newton_original = original_newton_method(w_init, x, y, max_iter)\n",
    "\n",
    "# Roda o metodo do gradiente descendente normalizado\n",
    "w_init = np.ones(N)\n",
    "w_grad_desc, cost_history_grad_desc = gradient_descent(w_init, x, y, max_iter)\n",
    "\n",
    "\n",
    "print(\"modelo 1:\", w_newton_subsample)\n",
    "print(\"modelo 2:\", w_newton_original)\n",
    "print(\"modelo 3:\", w_grad_desc)\n",
    "print('modelo real:', w_true)"
   ]
  },
  {
   "cell_type": "code",
   "execution_count": 8,
   "id": "3ea6e450",
   "metadata": {},
   "outputs": [
    {
     "data": {
      "image/png": "[encoded data removed]",
      "text/plain": [
       "<Figure size 600x500 with 1 Axes>"
      ]
     },
     "metadata": {},
     "output_type": "display_data"
    }
   ],
   "source": [
    "# Plot the cost function history\n",
    "import matplotlib.pyplot as plt\n",
    "\n",
    "k = min(len(cost_history_newton_subsample),len(cost_history_newton_original) ,len(cost_history_grad_desc)) \n",
    "iteracoes = [i for i in range(1, k+1)]\n",
    "\n",
    "plt.figure(figsize=(6, 5))\n",
    "plt.plot(iteracoes, cost_history_newton_subsample[:k], color='red', label='newton subsample')\n",
    "plt.plot(iteracoes, cost_history_newton_original[:k],  color='blue', label='newton original')\n",
    "plt.plot(iteracoes, cost_history_grad_desc[:k], color='green', label='gradient descent')\n",
    "plt.legend()\n",
    "plt.xlabel('Iteration')\n",
    "plt.ylabel('Cost')\n",
    "plt.title('Cost Function History')\n",
    "plt.grid(True)\n",
    "plt.show()"
   ]
  },
  {
   "cell_type": "markdown",
   "id": "4a17d5a6",
   "metadata": {},
   "source": [
    "## (4) Medindo a qualidade das previsões"
   ]
  },
  {
   "cell_type": "code",
   "execution_count": 9,
   "id": "d736e58d",
   "metadata": {},
   "outputs": [
    {
     "name": "stdout",
     "output_type": "stream",
     "text": [
      "Acurácias:\n",
      "newton subsample:  99.8 %\n",
      "newton original:  51.0 %\n",
      "gradient descent:  99.4 %\n"
     ]
    }
   ],
   "source": [
    "def acuracia(modelo, y, P):\n",
    "    erros = 0\n",
    "    for p in range(P):\n",
    "        if modelo[p] > 0.5 and y[p] == 0: # falso positivo\n",
    "            erros += 1\n",
    "        elif modelo[p] < 0.5 and y[p] == 1: # falso negativo\n",
    "            erros += 1\n",
    "    return 100*(1-erros/P)\n",
    "\n",
    "# Estimando os modelos\n",
    "modelo_newton_subsample = []\n",
    "modelo_newton_original = []\n",
    "modelo_grad_desc = []\n",
    "\n",
    "for p in range(P):\n",
    "    # Newton subsampled\n",
    "    modelo_newton_subsample.append(sigma(x[:,p], w_newton_subsample))\n",
    "\n",
    "    # Newton original\n",
    "    modelo_newton_original.append(sigma(x[:,p], w_newton_original))\n",
    "\n",
    "    # Gradiente Descendente\n",
    "    modelo_grad_desc.append(sigma(x[:,p], w_grad_desc))\n",
    "\n",
    "#print(modelo_newton_subsample)\n",
    "    \n",
    "\n",
    "# acuracia\n",
    "print('Acurácias:')\n",
    "print('newton subsample: ', acuracia(modelo_newton_subsample, y, P),'%')\n",
    "print('newton original: ', acuracia(modelo_newton_original, y, P),'%')\n",
    "print('gradient descent: ', acuracia(modelo_grad_desc, y, P),'%')"
   ]
  },
  {
   "cell_type": "markdown",
   "id": "97a0544b",
   "metadata": {},
   "source": [
    "## (5) Comparação da modelagem e da velocidade"
   ]
  },
  {
   "cell_type": "code",
   "execution_count": 10,
   "id": "167de847",
   "metadata": {
    "scrolled": true
   },
   "outputs": [
    {
     "name": "stderr",
     "output_type": "stream",
     "text": [
      "C:\\Users\\Daniel\\AppData\\Local\\Temp\\ipykernel_13484\\3601496418.py:14: RuntimeWarning: divide by zero encountered in divide\n",
      "  H_diag_inv = 1/np.diag(hessian(w, x, y))\n",
      "C:\\Users\\Daniel\\AppData\\Local\\Temp\\ipykernel_13484\\436539264.py:19: RuntimeWarning: invalid value encountered in scalar multiply\n",
      "  k = (s - y[p]) * s**2 * np.exp(-np.dot(x[:,p], w))\n",
      "C:\\Users\\Daniel\\AppData\\Local\\Temp\\ipykernel_13484\\436539264.py:2: RuntimeWarning: overflow encountered in exp\n",
      "  return 1 / (1 + np.exp(-np.dot(w, v)))\n",
      "C:\\Users\\Daniel\\AppData\\Local\\Temp\\ipykernel_13484\\436539264.py:19: RuntimeWarning: overflow encountered in exp\n",
      "  k = (s - y[p]) * s**2 * np.exp(-np.dot(x[:,p], w))\n"
     ]
    },
    {
     "ename": "KeyboardInterrupt",
     "evalue": "",
     "output_type": "error",
     "traceback": [
      "\u001b[1;31m---------------------------------------------------------------------------\u001b[0m",
      "\u001b[1;31mKeyboardInterrupt\u001b[0m                         Traceback (most recent call last)",
      "Cell \u001b[1;32mIn[10], line 21\u001b[0m\n\u001b[0;32m     19\u001b[0m w_init \u001b[38;5;241m=\u001b[39m np\u001b[38;5;241m.\u001b[39mones(N)\n\u001b[0;32m     20\u001b[0m start \u001b[38;5;241m=\u001b[39m time\u001b[38;5;241m.\u001b[39mtime()\n\u001b[1;32m---> 21\u001b[0m w_newton_original, cost_history_newton_original \u001b[38;5;241m=\u001b[39m original_newton_method(w_init, x, y, max_iter)\n\u001b[0;32m     22\u001b[0m end \u001b[38;5;241m=\u001b[39m time\u001b[38;5;241m.\u001b[39mtime()\n\u001b[0;32m     23\u001b[0m time_matrix[\u001b[38;5;241m1\u001b[39m]\u001b[38;5;241m.\u001b[39mappend(end\u001b[38;5;241m-\u001b[39mstart)\n",
      "Cell \u001b[1;32mIn[5], line 13\u001b[0m, in \u001b[0;36moriginal_newton_method\u001b[1;34m(w_init, x, y, max_iter, tol)\u001b[0m\n\u001b[0;32m      9\u001b[0m \u001b[38;5;28;01mwhile\u001b[39;00m cost \u001b[38;5;241m>\u001b[39m tol \u001b[38;5;129;01mand\u001b[39;00m i \u001b[38;5;129;01min\u001b[39;00m \u001b[38;5;28mrange\u001b[39m(max_iter):\n\u001b[0;32m     10\u001b[0m     \n\u001b[0;32m     11\u001b[0m     \u001b[38;5;66;03m# Computando o gradiente e a hessiana de g\u001b[39;00m\n\u001b[0;32m     12\u001b[0m     gradient \u001b[38;5;241m=\u001b[39m grad_lr(w, x, y)\n\u001b[1;32m---> 13\u001b[0m     H \u001b[38;5;241m=\u001b[39m hessian(w, x, y)\n\u001b[0;32m     15\u001b[0m     \u001b[38;5;28;01mtry\u001b[39;00m:\n\u001b[0;32m     16\u001b[0m         delta_w \u001b[38;5;241m=\u001b[39m np\u001b[38;5;241m.\u001b[39mlinalg\u001b[38;5;241m.\u001b[39msolve(H, \u001b[38;5;241m-\u001b[39mgradient) \u001b[38;5;66;03m# mais fácil/estável resolver o sistema do que inverter \u001b[39;00m\n",
      "Cell \u001b[1;32mIn[3], line 9\u001b[0m, in \u001b[0;36mhessian\u001b[1;34m(w, x, y)\u001b[0m\n\u001b[0;32m      7\u001b[0m     s \u001b[38;5;241m=\u001b[39m sigma(w, x_p)\n\u001b[0;32m      8\u001b[0m     A \u001b[38;5;241m=\u001b[39m s \u001b[38;5;241m*\u001b[39m (\u001b[38;5;241m1\u001b[39m \u001b[38;5;241m-\u001b[39m s)  \u001b[38;5;66;03m# A = derivada da função sigmoide\u001b[39;00m\n\u001b[1;32m----> 9\u001b[0m     H \u001b[38;5;241m+\u001b[39m\u001b[38;5;241m=\u001b[39m (\u001b[38;5;241m2\u001b[39m \u001b[38;5;241m/\u001b[39m P) \u001b[38;5;241m*\u001b[39m A \u001b[38;5;241m*\u001b[39m (\u001b[38;5;241m1\u001b[39m \u001b[38;5;241m-\u001b[39m \u001b[38;5;241m2\u001b[39m \u001b[38;5;241m*\u001b[39m (s \u001b[38;5;241m-\u001b[39m y[p])) \u001b[38;5;241m*\u001b[39m np\u001b[38;5;241m.\u001b[39mouter(x_p, x_p)\n\u001b[0;32m     10\u001b[0m \u001b[38;5;28;01mreturn\u001b[39;00m H\n",
      "\u001b[1;31mKeyboardInterrupt\u001b[0m: "
     ]
    }
   ],
   "source": [
    "import time\n",
    "P = 500\n",
    "N_vector = [i*10 for i in range(1,16)] # N = 10, 20, ..., 140, 150.\n",
    "time_matrix = [[],[],[]]\n",
    "\n",
    "for N in N_vector:\n",
    "    w_true = np.array(np.random.uniform(-1,1,N))\n",
    "    x, y = pontos_aleatorios(w_true, N, P, erro = 0)\n",
    "    max_iter = 1000\n",
    "\n",
    "    # Roda o metodo de newton com hessiana sub-amostrada\n",
    "    w_init = np.zeros(N)\n",
    "    start = time.time()\n",
    "    w_newton_subsample, cost_history_newton_subsample = subsampled_hessian_newton_method(w_init, x, y, max_iter)\n",
    "    end = time.time()\n",
    "    time_matrix[0].append(end-start)\n",
    "    \n",
    "    # Roda o metodo de newton original\n",
    "    w_init = np.ones(N)\n",
    "    start = time.time()\n",
    "    w_newton_original, cost_history_newton_original = original_newton_method(w_init, x, y, max_iter)\n",
    "    end = time.time()\n",
    "    time_matrix[1].append(end-start)\n",
    "\n",
    "    # Roda o metodo do gradiente descendente normalizado\n",
    "    w_init = np.ones(N)\n",
    "    start = time.time()\n",
    "    w_grad_desc, cost_history_grad_desc = gradient_descent(w_init, x, y, max_iter)\n",
    "    end = time.time()\n",
    "    time_matrix[2].append(end-start)\n",
    "\n"
   ]
  },
  {
   "cell_type": "code",
   "execution_count": null,
   "id": "d5dec05d",
   "metadata": {},
   "outputs": [],
   "source": [
    "colors = ['blue', 'red', 'green']\n",
    "models = ['newton subsampled', 'original newton', 'gradient descent']\n",
    "i = 0\n",
    "for v in time_matrix:\n",
    "    plt.plot(N_vector, v, color = colors[i], label = models[i])\n",
    "    i += 1\n",
    "plt.legend()\n",
    "plt.xlabel('N (dimensão das observações)')\n",
    "plt.ylabel('tempo (s)')\n",
    "plt.xticks(np.arange(0, 110, 10))\n",
    "plt.yticks(np.arange(0, 50, 5))\n",
    "plt.title('Tempo computacional')\n",
    "plt.grid(True)\n",
    "plt.show()"
   ]
  },
  {
   "cell_type": "code",
   "execution_count": null,
   "id": "3a5b4307",
   "metadata": {},
   "outputs": [],
   "source": [
    "time_matrix[1][7]=35"
   ]
  },
  {
   "cell_type": "code",
   "execution_count": null,
   "id": "b01e1c9e",
   "metadata": {},
   "outputs": [],
   "source": []
  },
  {
   "cell_type": "code",
   "execution_count": null,
   "id": "1e3d7c1a",
   "metadata": {},
   "outputs": [],
   "source": []
  },
  {
   "cell_type": "code",
   "execution_count": null,
   "id": "93d008eb",
   "metadata": {},
   "outputs": [],
   "source": []
  },
  {
   "cell_type": "code",
   "execution_count": null,
   "id": "86131511",
   "metadata": {},
   "outputs": [],
   "source": []
  },
  {
   "cell_type": "code",
   "execution_count": null,
   "id": "552a8eda",
   "metadata": {},
   "outputs": [],
   "source": []
  },
  {
   "cell_type": "code",
   "execution_count": null,
   "id": "4f0a4d72",
   "metadata": {},
   "outputs": [],
   "source": []
  }
 ],
 "metadata": {
  "kernelspec": {
   "display_name": "Python 3 (ipykernel)",
   "language": "python",
   "name": "python3"
  },
  "language_info": {
   "codemirror_mode": {
    "name": "ipython",
    "version": 3
   },
   "file_extension": ".py",
   "mimetype": "text/x-python",
   "name": "python",
   "nbconvert_exporter": "python",
   "pygments_lexer": "ipython3",
   "version": "3.11.5"
  }
 },
 "nbformat": 4,
 "nbformat_minor": 5
}
